{
 "cells": [
  {
   "cell_type": "markdown",
   "metadata": {},
   "source": [
    "# Homework \\#4 - Python exercise"
   ]
  },
  {
   "cell_type": "code",
   "execution_count": null,
   "metadata": {},
   "outputs": [],
   "source": [
    "%pylab inline\n",
    "import matplotlib\n",
    "import matplotlib.pyplot as plt\n",
    "import numpy as np"
   ]
  },
  {
   "cell_type": "markdown",
   "metadata": {},
   "source": [
    "## The Gibbs Phenomenon\n",
    "  \n",
    "In this exercise you will verify by yourself the existence of the Gibbs phenomenon using Python (or any other numerical package). The idea is to plot a zoomed-in version of the frequency response of a truncated ideal lowpass filter with cutoff frequency $\\pi/2$:\n",
    "$$\n",
    "      \\hat H(e^{j\\omega}) = \\sum_{n=-N}^{N} (1/2)\\mbox{sinc}(n/2) \\; e^{-j\\omega n}\n",
    "$$\n",
    "where we are interested in plotting the transform over a small interval around the cutoff frequency.\n",
    "  \n",
    "* Plot $\\hat H(e^{j\\omega})$ over 2000 points in the interval $1.4 \\leq \\omega \\leq 1.7$ for $N = 20$. \n",
    "* Repeat the above point for $N = 100$ and $N=200$ and verify that the peak of the magnitude is still approximately $9\\%$ of the value of the discontinuity.\n"
   ]
  },
  {
   "cell_type": "code",
   "execution_count": null,
   "metadata": {},
   "outputs": [],
   "source": [
    "# this function computes H(e^jw) for a given set of values of omega\n",
    "def H(omega, N):\n",
    "    ...\n",
    "    return H"
   ]
  },
  {
   "cell_type": "code",
   "execution_count": null,
   "metadata": {},
   "outputs": [],
   "source": [
    "wlim = [1.4, 1.7]\n",
    "omega = np.linspace(wlim[0], wlim[1], 2000)\n",
    "\n",
    "for N in (20, 100, 200, 1000):\n",
    "    plt.plot(omega, H(omega, N))\n",
    "    plt.plot(wlim, [1.09, 1.09], 'r--')\n",
    "    plt.xlim(wlim)\n",
    "    plt.xlabel(r'$\\omega$', fontsize=12)\n",
    "    plt.ylabel(r'$\\left|\\hat{H}(e^{j\\omega})\\right|$', fontsize=12)\n",
    "    plt.grid()\n",
    "    plt.show()"
   ]
  }
 ],
 "metadata": {
  "kernelspec": {
   "display_name": "Python 3",
   "language": "python",
   "name": "python3"
  },
  "language_info": {
   "codemirror_mode": {
    "name": "ipython",
    "version": 3
   },
   "file_extension": ".py",
   "mimetype": "text/x-python",
   "name": "python",
   "nbconvert_exporter": "python",
   "pygments_lexer": "ipython3",
   "version": "3.7.7"
  }
 },
 "nbformat": 4,
 "nbformat_minor": 4
}
